{
  "nbformat": 4,
  "nbformat_minor": 0,
  "metadata": {
    "colab": {
      "provenance": [],
      "toc_visible": true,
      "gpuType": "T4"
    },
    "kernelspec": {
      "name": "python3",
      "display_name": "Python 3"
    },
    "language_info": {
      "name": "python"
    },
    "accelerator": "GPU"
  },
  "cells": [
    {
      "cell_type": "markdown",
      "source": [
        "Тестовое задание для компании OsmoViev"
      ],
      "metadata": {
        "id": "L6S8lOfkQPd8"
      }
    },
    {
      "cell_type": "code",
      "source": [
        "import os\n",
        "import shutil\n",
        "import random\n",
        "\n",
        "import pandas as pd\n",
        "import matplotlib.pyplot as plt\n",
        "from PIL import Image\n",
        "from tqdm import tqdm\n",
        "\n",
        "import torch\n",
        "import torch.nn as nn\n",
        "import torch.optim as optim\n",
        "from torch.utils.data import Dataset, DataLoader\n",
        "from torchvision import models, transforms\n",
        "\n",
        "\n"
      ],
      "metadata": {
        "id": "B1DC5n0RTgb7"
      },
      "execution_count": 16,
      "outputs": []
    },
    {
      "cell_type": "code",
      "execution_count": 17,
      "metadata": {
        "colab": {
          "base_uri": "https://localhost:8080/"
        },
        "id": "dWw-oKkx-qLt",
        "outputId": "7ef75031-1f7b-4546-fc95-3eb8cb31457c"
      },
      "outputs": [
        {
          "output_type": "stream",
          "name": "stdout",
          "text": [
            "Drive already mounted at /content/drive; to attempt to forcibly remount, call drive.mount(\"/content/drive\", force_remount=True).\n"
          ]
        }
      ],
      "source": [
        "from google.colab import drive\n",
        "drive.mount('/content/drive')"
      ]
    },
    {
      "cell_type": "code",
      "source": [
        "# код для загрузки данных\n",
        "# DATA_DIR = '/content/drive/MyDrive/osmoviev_test/'\n",
        "# GEORGES_CSV = f\"{DATA_DIR}/georges.csv\"\n",
        "# NON_GEORGES_CSV = f\"{DATA_DIR}/non_georges.csv\"\n",
        "\n",
        "# SAVE_DIR = '/content/drive/MyDrive/osmoviev_test/'\n",
        "# GEORGES_SAVE_PATH = f\"{SAVE_DIR}/train/georges\"\n",
        "# NON_GEORGES_SAVE_PATH = f\"{SAVE_DIR}/train/non_georges\"\n",
        "\n",
        "# # скачиваем файлы\n",
        "# !wget --random-wait -i \"{GEORGES_CSV}\" -P \"{GEORGES_SAVE_PATH}\"\n",
        "# !wget --random-wait -i \"{NON_GEORGES_CSV}\" -P \"{NON_GEORGES_SAVE_PATH}\""
      ],
      "metadata": {
        "id": "eA1lDp3qAPPG"
      },
      "execution_count": 18,
      "outputs": []
    },
    {
      "cell_type": "code",
      "source": [
        "BASE_DATA_PATH = '/content/drive/MyDrive/osmoviev_test/train'\n",
        "\n",
        "georges_path = os.path.join(BASE_DATA_PATH, 'georges')\n",
        "non_georges_path = os.path.join(BASE_DATA_PATH, 'non_georges')\n",
        "\n",
        "num_georges = len(os.listdir(georges_path))\n",
        "num_non_georges = len(os.listdir(non_georges_path))\n",
        "\n",
        "print(f\"Всего изображений 'Георгиев': {num_georges}\")\n",
        "print(f\"Всего изображений 'не Георгиев': {num_non_georges}\")"
      ],
      "metadata": {
        "colab": {
          "base_uri": "https://localhost:8080/"
        },
        "id": "I25G5z0lAPUA",
        "outputId": "05936c58-0401-482b-be13-4a799f653627"
      },
      "execution_count": 19,
      "outputs": [
        {
          "output_type": "stream",
          "name": "stdout",
          "text": [
            "Всего изображений 'Георгиев': 1373\n",
            "Всего изображений 'не Георгиев': 1724\n"
          ]
        }
      ]
    },
    {
      "cell_type": "code",
      "source": [
        "SOURCE_PATH = '/content/drive/MyDrive/osmoviev_test/'\n",
        "TRAIN_PATH = os.path.join(SOURCE_PATH, 'train')\n",
        "VAL_PATH = os.path.join(SOURCE_PATH, 'val')\n",
        "\n",
        "os.makedirs(os.path.join(VAL_PATH, 'georges'), exist_ok=True)\n",
        "os.makedirs(os.path.join(VAL_PATH, 'non_georges'), exist_ok=True)"
      ],
      "metadata": {
        "id": "9djh10z8Pl-Z"
      },
      "execution_count": 20,
      "outputs": []
    },
    {
      "cell_type": "code",
      "source": [
        "def split_data(class_name, split_ratio=0.2):\n",
        "  \"\"\"Переносит файлы в валидационную выборку\"\"\"\n",
        "  source_dir = os.path.join(TRAIN_PATH, class_name)\n",
        "  val_dir = os.path.join(VAL_PATH, class_name)\n",
        "\n",
        "  files = os.listdir(source_dir)\n",
        "  random.shuffle(files)\n",
        "\n",
        "  split_point = int(len(files) * split_ratio)\n",
        "  files_to_move = files[:split_point]\n",
        "\n",
        "  for file_name in files_to_move:\n",
        "      shutil.move(os.path.join(source_dir, file_name), os.path.join(val_dir, file_name))\n",
        "  print(f\"Перемещенно {len(files_to_move)} файлов для класса '{class_name}' в валидационную выборку\")\n",
        "\n",
        "split_data('georges')\n",
        "split_data('non_georges')"
      ],
      "metadata": {
        "colab": {
          "base_uri": "https://localhost:8080/"
        },
        "id": "qzLYJPpGTAis",
        "outputId": "9ca3147e-9bf2-477d-ca22-3f1b8f84accf"
      },
      "execution_count": 21,
      "outputs": [
        {
          "output_type": "stream",
          "name": "stdout",
          "text": [
            "Перемещенно 274 файлов для класса 'georges' в валидационную выборку\n",
            "Перемещенно 344 файлов для класса 'non_georges' в валидационную выборку\n"
          ]
        }
      ]
    },
    {
      "cell_type": "code",
      "source": [
        "device = torch.device('cuda' if torch.cuda.is_available() else 'cpu')\n",
        "device"
      ],
      "metadata": {
        "colab": {
          "base_uri": "https://localhost:8080/"
        },
        "id": "e5zy3tYdPmPc",
        "outputId": "9a57de96-bf12-49e4-9f50-11a6436f4199"
      },
      "execution_count": 22,
      "outputs": [
        {
          "output_type": "execute_result",
          "data": {
            "text/plain": [
              "device(type='cuda')"
            ]
          },
          "metadata": {},
          "execution_count": 22
        }
      ]
    },
    {
      "cell_type": "code",
      "source": [
        "def show_random_images(class_name, split='train', n=5):\n",
        "    \"\"\"Визуализация случайных изображений из определенного класса\"\"\"\n",
        "\n",
        "    class_path = os.path.join(SOURCE_PATH, split, class_name)\n",
        "    if not os.path.exists(class_path):\n",
        "        print(f\"Папка не найдена: {class_path}\")\n",
        "        return\n",
        "\n",
        "    random_images = random.sample(os.listdir(class_path), n)\n",
        "\n",
        "    plt.figure(figsize=(15, 5))\n",
        "    plt.suptitle(f\"Случайные изображения класса '{class_name}'\", fontsize=16)\n",
        "\n",
        "    for i, img_name in enumerate(random_images):\n",
        "        img_path = os.path.join(class_path, img_name)\n",
        "        try:\n",
        "            img = Image.open(img_path)\n",
        "\n",
        "            plt.subplot(1, n, i + 1)\n",
        "            plt.imshow(img)\n",
        "            plt.axis('off')\n",
        "        except Exception as e:\n",
        "            print(f\"Не удалось открыть изображение {img_path}: {e}\")\n",
        "\n",
        "    plt.show()\n",
        "\n",
        "show_random_images('georges', split='train', n=5)\n",
        "show_random_images('non_georges', split='train', n=5)"
      ],
      "metadata": {
        "id": "KyjCatTbVo-T"
      },
      "execution_count": null,
      "outputs": []
    },
    {
      "cell_type": "markdown",
      "source": [
        "Выводы по анализу изображений\n",
        "\n",
        "1. Большое разнообразие стилей в первом классе, что усложняет задачу, т.к. модель не сможет полагаться на простые текстуры или цвета\n",
        "2. Святой Георгий расположен совершенно по-разному на каждом изображении. Он может находиться в любой позе, быть отдален или максимально приближен\n",
        "3. На изображениях может отсутствовать конь / копье / иные аттрибуты для определения Святого Георгия\n",
        "4. В данных есть фрески, где Георгий занимает малую часть изображения (около 10%). А так-же картины, где весь акцент смещен на иной объект. Модель в данном случае может решить, что объект который занимает бОльшую часть изображения - является признаком класса\n",
        "\n",
        "\n",
        "Промежуточные мысли\n",
        "\n",
        "1. Нужна сильаня аугментация, чтобы модель была инварианта к разным стилям изображения (к примеру - ColorJitter). В особенности RandomResizedCrop, чтобы учить модель распознавать отдельные участки изображений\n",
        "2. Сверточные классификаторы (ResNet) могут цепляться за фон или неважные детали. Стоит смотреть в сторону трансформерных архитектур. Однако, 2500 данных (на класс) может не хватить для обучения того же ViT.\n",
        "3. Наличие таких примеров, как фреска, где Георгий занимает лишь малую часть изображения - скорее всего будет классифицировано как ложноотрицательное. В данном случае в качестве лосса стоит взять FocalLoss\n",
        "4. После обучения модели стоит использовать Grad-CAM (или иные) чтобы посмотреть, на чем фокусирует свое внимание модель во время обучения. Это поможет в дальнейшем чтобы понять, насколько модель поняла общие паттерны (в особенности - при обучении трансформера на малом кол-ве данных)"
      ],
      "metadata": {
        "id": "0NTr8wgtVuKK"
      }
    },
    {
      "cell_type": "code",
      "source": [
        "class GeorgesDataset(Dataset):\n",
        "    \"\"\"Кастомный класс Dataset для загрузки изображений\"\"\"\n",
        "    def __init__(self, data_dir, transform=None):\n",
        "        self.data_dir = data_dir\n",
        "        self.transform = transform\n",
        "        self.image_files = []\n",
        "        self.labels = []\n",
        "\n",
        "        # Загрузка путей к файлам и меток для класса 'georges'\n",
        "        georges_dir = os.path.join(data_dir, 'georges')\n",
        "        if os.path.exists(georges_dir):\n",
        "            for img_file in os.listdir(georges_dir):\n",
        "                self.image_files.append(os.path.join(georges_dir, img_file))\n",
        "                self.labels.append(1)\n",
        "\n",
        "        # Загрузка путей к файлам и меток для класса 'non_georges'\n",
        "        non_georges_dir = os.path.join(data_dir, 'non_georges')\n",
        "        if os.path.exists(non_georges_dir):\n",
        "            for img_file in os.listdir(non_georges_dir):\n",
        "                self.image_files.append(os.path.join(non_georges_dir, img_file))\n",
        "                self.labels.append(0)\n",
        "\n",
        "\n",
        "    def __len__(self):\n",
        "        return len(self.image_files)\n",
        "\n",
        "    def __getitem__(self, idx):\n",
        "        if torch.is_tensor(idx):\n",
        "            idx = idx.tolist()\n",
        "\n",
        "        img_path = self.image_files[idx]\n",
        "        image = Image.open(img_path).convert('RGB')\n",
        "        label = self.labels[idx]\n",
        "\n",
        "        if self.transform:\n",
        "            image = self.transform(image)\n",
        "\n",
        "        return image, label"
      ],
      "metadata": {
        "id": "YTPim0PvWk1r"
      },
      "execution_count": 24,
      "outputs": []
    },
    {
      "cell_type": "code",
      "source": [
        "data_transforms = {\n",
        "    'train': transforms.Compose([\n",
        "        transforms.RandomResizedCrop(224),\n",
        "        transforms.RandomHorizontalFlip(),\n",
        "        transforms.ColorJitter(brightness=0.2, contrast=0.2, saturation=0.2, hue=0.1),\n",
        "        transforms.ToTensor(),\n",
        "        transforms.Normalize([0.485, 0.456, 0.406], [0.229, 0.224, 0.225])\n",
        "    ]),\n",
        "    'val': transforms.Compose([\n",
        "        transforms.Resize(256),\n",
        "        transforms.CenterCrop(224),\n",
        "        transforms.ToTensor(),\n",
        "        transforms.Normalize([0.485, 0.456, 0.406], [0.229, 0.224, 0.225])\n",
        "    ]),\n",
        "}\n",
        "\n",
        "image_datasets = {\n",
        "    'train': GeorgesDataset(os.path.join(SOURCE_PATH, 'train'), data_transforms['train']),\n",
        "    'val': GeorgesDataset(os.path.join(SOURCE_PATH, 'val'), data_transforms['val'])\n",
        "}\n",
        "\n",
        "dataloaders = {\n",
        "    'train': DataLoader(image_datasets['train'], batch_size=64, shuffle=True, num_workers=4, pin_memory=True),\n",
        "    'val': DataLoader(image_datasets['val'], batch_size=64, shuffle=False, num_workers=4, pin_memory=True)\n",
        "}\n",
        "\n",
        "dataset_sizes = {x: len(image_datasets[x]) for x in ['train', 'val']}\n",
        "class_names = ['non_georges', 'georges']\n",
        "\n",
        "print(dataset_sizes)"
      ],
      "metadata": {
        "colab": {
          "base_uri": "https://localhost:8080/"
        },
        "id": "7ZHRwK793QKK",
        "outputId": "4db7f1a0-c3a0-4790-c409-ac700024063b"
      },
      "execution_count": 25,
      "outputs": [
        {
          "output_type": "stream",
          "name": "stdout",
          "text": [
            "{'train': 2479, 'val': 3568}\n"
          ]
        },
        {
          "output_type": "stream",
          "name": "stderr",
          "text": [
            "/usr/local/lib/python3.12/dist-packages/torch/utils/data/dataloader.py:627: UserWarning: This DataLoader will create 4 worker processes in total. Our suggested max number of worker in current system is 2, which is smaller than what this DataLoader is going to create. Please be aware that excessive worker creation might get DataLoader running slow or even freeze, lower the worker number to avoid potential slowness/freeze if necessary.\n",
            "  warnings.warn(\n"
          ]
        }
      ]
    },
    {
      "cell_type": "markdown",
      "source": [
        "В качестве модели берем предобученный ViT на ImageNet"
      ],
      "metadata": {
        "id": "k040ALtkF8ea"
      }
    },
    {
      "cell_type": "code",
      "source": [
        "model = models.vit_b_16(weights='IMAGENET1K_V1')\n",
        "\n",
        "for param in model.parameters():\n",
        "    param.requires_grad = False\n",
        "\n",
        "num_ftrs = model.heads.head.in_features\n",
        "model.heads.head = nn.Linear(num_ftrs, len(class_names))\n",
        "\n",
        "model = model.to(device)\n"
      ],
      "metadata": {
        "id": "L6b7hMBAWlV4"
      },
      "execution_count": 26,
      "outputs": []
    },
    {
      "cell_type": "code",
      "source": [
        "import os\n",
        "import pandas as pd\n",
        "\n",
        "DATA_ROOT = '/content/drive/MyDrive/osmoviev_test/'\n",
        "\n",
        "stats = []\n",
        "\n",
        "for split in ['train', 'val']:\n",
        "  split_path = os.path.join(DATA_ROOT, split)\n",
        "\n",
        "  for class_name in os.listdir(split_path):\n",
        "      class_path = os.path.join(split_path, class_name)\n",
        "\n",
        "      if os.path.isdir(class_path):\n",
        "          num_files = len(os.listdir(class_path))\n",
        "\n",
        "          stats.append({'split': split, 'class': class_name, 'count': num_files})\n",
        "\n",
        "df_stats = pd.DataFrame(stats)\n",
        "\n",
        "print(df_stats)"
      ],
      "metadata": {
        "colab": {
          "base_uri": "https://localhost:8080/"
        },
        "id": "R-IRk9Hp_SFt",
        "outputId": "23ccfd8f-f4c2-458d-fba3-e3beb8d7d00f"
      },
      "execution_count": 27,
      "outputs": [
        {
          "output_type": "stream",
          "name": "stdout",
          "text": [
            "   split        class  count\n",
            "0  train      georges   1099\n",
            "1  train  non_georges   1380\n",
            "2    val      georges   1582\n",
            "3    val  non_georges   1986\n"
          ]
        }
      ]
    },
    {
      "cell_type": "code",
      "source": [
        "count_georges = df_stats.loc[(df_stats['split'] == 'train') & (df_stats['class'] == 'georges'), 'count'].iloc[0]\n",
        "count_non_georges = df_stats.loc[(df_stats['split'] == 'train') & (df_stats['class'] == 'non_georges'), 'count'].iloc[0]\n",
        "\n",
        "# Формула для весов\n",
        "weight_for_georges = (count_georges + count_non_georges) / (2 * count_georges)\n",
        "weight_for_non_georges = (count_georges + count_non_georges) / (2 * count_non_georges)\n",
        "\n",
        "class_weights = torch.tensor([weight_for_georges, weight_for_non_georges], dtype=torch.float32).to(device)\n",
        "print(f\"веса для классов: {class_weights.cpu().numpy()}\")"
      ],
      "metadata": {
        "colab": {
          "base_uri": "https://localhost:8080/"
        },
        "id": "U7um2iGVv8Ka",
        "outputId": "155f8e79-9d6a-477b-b00a-293a6551ee8d"
      },
      "execution_count": 28,
      "outputs": [
        {
          "output_type": "stream",
          "name": "stdout",
          "text": [
            "веса для классов: [1.1278435 0.8981884]\n"
          ]
        }
      ]
    },
    {
      "cell_type": "code",
      "source": [
        "criterion = nn.CrossEntropyLoss(weight=class_weights)\n",
        "\n",
        "optimizer = optim.Adam(\n",
        "    model.heads.head.parameters(),\n",
        "    lr=0.0001\n",
        ")\n",
        "scheduler = optim.lr_scheduler.StepLR(optimizer, step_size=5, gamma=0.1)"
      ],
      "metadata": {
        "id": "2iMrXLg893Xm"
      },
      "execution_count": 29,
      "outputs": []
    },
    {
      "cell_type": "code",
      "source": [
        "def train_model(model, dataloaders, dataset_sizes, criterion, optimizer, scheduler, device, num_epochs=10):\n",
        "  \"\"\"Обучение модели\"\"\"\n",
        "\n",
        "  best_acc = 0.0\n",
        "  history = {'train_loss': [], 'train_acc': [], 'val_loss': [], 'val_acc': []}\n",
        "\n",
        "  for epoch in range(num_epochs):\n",
        "      print(f'Эпоха {epoch + 1}/{num_epochs}')\n",
        "      print('-' * 10)\n",
        "\n",
        "      for phase in ['train', 'val']:\n",
        "          if phase == 'train':\n",
        "              model.train()\n",
        "          else:\n",
        "              model.eval()\n",
        "\n",
        "          running_loss = 0.0\n",
        "          running_corrects = 0\n",
        "\n",
        "          for inputs, labels in tqdm(dataloaders[phase], desc=f\"{phase.capitalize()} Epoch {epoch+1}\"):\n",
        "              inputs = inputs.to(device)\n",
        "              labels = labels.to(device)\n",
        "\n",
        "              optimizer.zero_grad()\n",
        "              with torch.set_grad_enabled(phase == 'train'):\n",
        "                  outputs = model(inputs)\n",
        "                  _, preds = torch.max(outputs, 1)\n",
        "                  loss = criterion(outputs, labels)\n",
        "\n",
        "                  if phase == 'train':\n",
        "                      loss.backward()\n",
        "                      optimizer.step()\n",
        "\n",
        "              running_loss += loss.item() * inputs.size(0)\n",
        "              running_corrects += torch.sum(preds == labels.data)\n",
        "\n",
        "          if phase == 'train':\n",
        "              scheduler.step()\n",
        "\n",
        "          epoch_loss = running_loss / dataset_sizes[phase]\n",
        "          # рассчет accuracy\n",
        "          epoch_acc = running_corrects.double() / dataset_sizes[phase]\n",
        "\n",
        "          history[f'{phase}_loss'].append(epoch_loss)\n",
        "          history[f'{phase}_acc'].append(epoch_acc.item())\n",
        "\n",
        "          print(f'{phase.capitalize()} Loss: {epoch_loss:.4f} Acc: {epoch_acc:.4f}')\n",
        "\n",
        "          if phase == 'val' and epoch_acc > best_acc:\n",
        "              best_acc = epoch_acc\n",
        "\n",
        "  print(f'Лучшая точность на валидации (Best val Acc): {best_acc:4f}')\n",
        "  return model, history\n"
      ],
      "metadata": {
        "id": "LlWTM9ECWlb7"
      },
      "execution_count": 34,
      "outputs": []
    },
    {
      "cell_type": "code",
      "source": [
        "trained_model, training_history = train_model(\n",
        "    model, dataloaders, dataset_sizes, criterion, optimizer, scheduler, device, num_epochs=10\n",
        ")"
      ],
      "metadata": {
        "colab": {
          "base_uri": "https://localhost:8080/"
        },
        "id": "awWzMHhhxg3P",
        "outputId": "f25f3df1-3567-4070-bded-fe254bbf4ed0"
      },
      "execution_count": 35,
      "outputs": [
        {
          "output_type": "stream",
          "name": "stdout",
          "text": [
            "Эпоха 1/10\n",
            "----------\n"
          ]
        },
        {
          "output_type": "stream",
          "name": "stderr",
          "text": [
            "Train Epoch 1: 100%|██████████| 39/39 [00:42<00:00,  1.10s/it]\n"
          ]
        },
        {
          "output_type": "stream",
          "name": "stdout",
          "text": [
            "Train Loss: 0.6311 Acc: 0.6474\n"
          ]
        },
        {
          "output_type": "stream",
          "name": "stderr",
          "text": [
            "Val Epoch 1: 100%|██████████| 56/56 [00:50<00:00,  1.11it/s]\n"
          ]
        },
        {
          "output_type": "stream",
          "name": "stdout",
          "text": [
            "Val Loss: 0.6113 Acc: 0.6690\n",
            "Эпоха 2/10\n",
            "----------\n"
          ]
        },
        {
          "output_type": "stream",
          "name": "stderr",
          "text": [
            "Train Epoch 2: 100%|██████████| 39/39 [00:43<00:00,  1.13s/it]\n"
          ]
        },
        {
          "output_type": "stream",
          "name": "stdout",
          "text": [
            "Train Loss: 0.5934 Acc: 0.6809\n"
          ]
        },
        {
          "output_type": "stream",
          "name": "stderr",
          "text": [
            "Val Epoch 2: 100%|██████████| 56/56 [00:52<00:00,  1.07it/s]\n"
          ]
        },
        {
          "output_type": "stream",
          "name": "stdout",
          "text": [
            "Val Loss: 0.5747 Acc: 0.7113\n",
            "Эпоха 3/10\n",
            "----------\n"
          ]
        },
        {
          "output_type": "stream",
          "name": "stderr",
          "text": [
            "Train Epoch 3: 100%|██████████| 39/39 [00:43<00:00,  1.11s/it]\n"
          ]
        },
        {
          "output_type": "stream",
          "name": "stdout",
          "text": [
            "Train Loss: 0.5568 Acc: 0.7152\n"
          ]
        },
        {
          "output_type": "stream",
          "name": "stderr",
          "text": [
            "Val Epoch 3: 100%|██████████| 56/56 [00:51<00:00,  1.09it/s]\n"
          ]
        },
        {
          "output_type": "stream",
          "name": "stdout",
          "text": [
            "Val Loss: 0.5452 Acc: 0.7427\n",
            "Эпоха 4/10\n",
            "----------\n"
          ]
        },
        {
          "output_type": "stream",
          "name": "stderr",
          "text": [
            "Train Epoch 4: 100%|██████████| 39/39 [00:42<00:00,  1.09s/it]\n"
          ]
        },
        {
          "output_type": "stream",
          "name": "stdout",
          "text": [
            "Train Loss: 0.5330 Acc: 0.7402\n"
          ]
        },
        {
          "output_type": "stream",
          "name": "stderr",
          "text": [
            "Val Epoch 4: 100%|██████████| 56/56 [00:50<00:00,  1.10it/s]\n"
          ]
        },
        {
          "output_type": "stream",
          "name": "stdout",
          "text": [
            "Val Loss: 0.5213 Acc: 0.7604\n",
            "Эпоха 5/10\n",
            "----------\n"
          ]
        },
        {
          "output_type": "stream",
          "name": "stderr",
          "text": [
            "Train Epoch 5: 100%|██████████| 39/39 [00:43<00:00,  1.11s/it]\n"
          ]
        },
        {
          "output_type": "stream",
          "name": "stdout",
          "text": [
            "Train Loss: 0.5193 Acc: 0.7576\n"
          ]
        },
        {
          "output_type": "stream",
          "name": "stderr",
          "text": [
            "Val Epoch 5: 100%|██████████| 56/56 [00:51<00:00,  1.08it/s]\n"
          ]
        },
        {
          "output_type": "stream",
          "name": "stdout",
          "text": [
            "Val Loss: 0.5192 Acc: 0.7646\n",
            "Эпоха 6/10\n",
            "----------\n"
          ]
        },
        {
          "output_type": "stream",
          "name": "stderr",
          "text": [
            "Train Epoch 6: 100%|██████████| 39/39 [00:43<00:00,  1.13s/it]\n"
          ]
        },
        {
          "output_type": "stream",
          "name": "stdout",
          "text": [
            "Train Loss: 0.5260 Acc: 0.7463\n"
          ]
        },
        {
          "output_type": "stream",
          "name": "stderr",
          "text": [
            "Val Epoch 6: 100%|██████████| 56/56 [00:52<00:00,  1.08it/s]\n"
          ]
        },
        {
          "output_type": "stream",
          "name": "stdout",
          "text": [
            "Val Loss: 0.5172 Acc: 0.7663\n",
            "Эпоха 7/10\n",
            "----------\n"
          ]
        },
        {
          "output_type": "stream",
          "name": "stderr",
          "text": [
            "Train Epoch 7: 100%|██████████| 39/39 [00:43<00:00,  1.11s/it]\n"
          ]
        },
        {
          "output_type": "stream",
          "name": "stdout",
          "text": [
            "Train Loss: 0.5194 Acc: 0.7459\n"
          ]
        },
        {
          "output_type": "stream",
          "name": "stderr",
          "text": [
            "Val Epoch 7: 100%|██████████| 56/56 [00:51<00:00,  1.08it/s]\n"
          ]
        },
        {
          "output_type": "stream",
          "name": "stdout",
          "text": [
            "Val Loss: 0.5152 Acc: 0.7685\n",
            "Эпоха 8/10\n",
            "----------\n"
          ]
        },
        {
          "output_type": "stream",
          "name": "stderr",
          "text": [
            "Train Epoch 8: 100%|██████████| 39/39 [00:43<00:00,  1.11s/it]\n"
          ]
        },
        {
          "output_type": "stream",
          "name": "stdout",
          "text": [
            "Train Loss: 0.5164 Acc: 0.7612\n"
          ]
        },
        {
          "output_type": "stream",
          "name": "stderr",
          "text": [
            "Val Epoch 8: 100%|██████████| 56/56 [00:50<00:00,  1.10it/s]\n"
          ]
        },
        {
          "output_type": "stream",
          "name": "stdout",
          "text": [
            "Val Loss: 0.5131 Acc: 0.7707\n",
            "Эпоха 9/10\n",
            "----------\n"
          ]
        },
        {
          "output_type": "stream",
          "name": "stderr",
          "text": [
            "Train Epoch 9: 100%|██████████| 39/39 [00:42<00:00,  1.10s/it]\n"
          ]
        },
        {
          "output_type": "stream",
          "name": "stdout",
          "text": [
            "Train Loss: 0.5099 Acc: 0.7701\n"
          ]
        },
        {
          "output_type": "stream",
          "name": "stderr",
          "text": [
            "Val Epoch 9: 100%|██████████| 56/56 [00:50<00:00,  1.11it/s]\n"
          ]
        },
        {
          "output_type": "stream",
          "name": "stdout",
          "text": [
            "Val Loss: 0.5112 Acc: 0.7721\n",
            "Эпоха 10/10\n",
            "----------\n"
          ]
        },
        {
          "output_type": "stream",
          "name": "stderr",
          "text": [
            "Train Epoch 10: 100%|██████████| 39/39 [00:42<00:00,  1.10s/it]\n"
          ]
        },
        {
          "output_type": "stream",
          "name": "stdout",
          "text": [
            "Train Loss: 0.5096 Acc: 0.7660\n"
          ]
        },
        {
          "output_type": "stream",
          "name": "stderr",
          "text": [
            "Val Epoch 10: 100%|██████████| 56/56 [00:51<00:00,  1.09it/s]"
          ]
        },
        {
          "output_type": "stream",
          "name": "stdout",
          "text": [
            "Val Loss: 0.5109 Acc: 0.7721\n",
            "Лучшая точность на валидации (Best val Acc): 0.772141\n"
          ]
        },
        {
          "output_type": "stream",
          "name": "stderr",
          "text": [
            "\n"
          ]
        }
      ]
    },
    {
      "cell_type": "code",
      "source": [
        "def plot_training_history(history):\n",
        "    \"\"\"Визуализация графикок обучения и валидации\"\"\"\n",
        "    train_acc = history['train_acc']\n",
        "    val_acc = history['val_acc']\n",
        "    train_loss = history['train_loss']\n",
        "    val_loss = history['val_loss']\n",
        "\n",
        "    epochs = range(1, len(train_acc) + 1)\n",
        "\n",
        "    plt.figure(figsize=(15, 6))\n",
        "\n",
        "    # график Accuracy\n",
        "    plt.subplot(1, 2, 1)\n",
        "    plt.plot(epochs, train_acc, 'bo-', label='Training Accuracy')\n",
        "    plt.plot(epochs, val_acc, 'ro-', label='Validation Accuracy')\n",
        "    plt.title('Training and Validation Accuracy')\n",
        "    plt.xlabel('Epochs')\n",
        "    plt.ylabel('Accuracy')\n",
        "    plt.legend()\n",
        "    plt.grid(True)\n",
        "\n",
        "    # график лосса\n",
        "    plt.subplot(1, 2, 2)\n",
        "    plt.plot(epochs, train_loss, 'bo-', label='Training Loss')\n",
        "    plt.plot(epochs, val_loss, 'ro-', label='Validation Loss')\n",
        "    plt.title('Training and Validation Loss')\n",
        "    plt.xlabel('Epochs')\n",
        "    plt.ylabel('Loss')\n",
        "    plt.legend()\n",
        "    plt.grid(True)\n",
        "\n",
        "    plt.tight_layout()\n",
        "    plt.show()\n",
        "\n",
        "plot_training_history(training_history)"
      ],
      "metadata": {
        "colab": {
          "base_uri": "https://localhost:8080/",
          "height": 421
        },
        "id": "yIl5VPfu17WY",
        "outputId": "5b5a39d6-9a94-4682-9cff-46c6068439b7"
      },
      "execution_count": 36,
      "outputs": [
        {
          "output_type": "display_data",
          "data": {
            "text/plain": [
              "<Figure size 1500x600 with 2 Axes>"
            ],
            "image/png": "[encoded data removed]"
          },
          "metadata": {}
        }
      ]
    },
    {
      "cell_type": "markdown",
      "source": [
        "Модель обучалась 10 эпох.\n",
        "\n",
        "Результаты - Стабильное снижение лосса и рост точности как на обучающей, так и на валидационной выборке, без явных признаков переобучения\n",
        "\n",
        "Acc на валидации - 0.77\n",
        "\n",
        "Что можно улучшить / добавить\n",
        "\n",
        "1. Провести абляцию, добавляя / убирая новые агументации\n",
        "2. Использовать предобученный CLIP для поиска и удаления наиболее явных ошибок разметки в исходном датасете\n",
        "3.  После первоначального обучения \"головы\" можно разморозить несколько последних слоев трансформера и продолжить обучение с очень низким learning rate. Это может позволить модели точнее адаптироваться к специфике датасета.\n",
        "4. Попробовать другие модели (Swin / CNN-модели)\n",
        "5. Применить техники вроде Grad-CAM для визуализации областей, на которые модель обращает внимание. Это поможет убедиться, что модель фокусируется на самом Святом Георгии, а не на артефактах фона\n",
        "6. Для получения более робастной и статистически значимой оценки производительности можно применить кросс-валидацию вместо простого разделения на train/val\n",
        "7. Провести анализ изображений, где модель ошибается\n",
        "8. Помимо перечисленных выыше улучшений, существует еще множество подходов, которые могут повысить качество / ускорить инференс модели"
      ],
      "metadata": {
        "id": "MM81A60iqJvJ"
      }
    },
    {
      "cell_type": "code",
      "source": [],
      "metadata": {
        "id": "UU0VgToWGHlv"
      },
      "execution_count": null,
      "outputs": []
    },
    {
      "cell_type": "code",
      "source": [],
      "metadata": {
        "id": "dfhmHYROqJ2p"
      },
      "execution_count": null,
      "outputs": []
    },
    {
      "cell_type": "code",
      "source": [],
      "metadata": {
        "id": "i1caXW5WqJ89"
      },
      "execution_count": null,
      "outputs": []
    }
  ]
}